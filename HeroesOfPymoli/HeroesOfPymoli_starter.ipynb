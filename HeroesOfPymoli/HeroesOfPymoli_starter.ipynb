{
 "cells": [
  {
   "cell_type": "markdown",
   "metadata": {},
   "source": [
    "### Note\n",
    "* Instructions have been included for each segment. You do not have to follow them exactly, but they are included to help you think through the steps."
   ]
  },
  {
   "cell_type": "code",
   "execution_count": 40,
   "metadata": {},
   "outputs": [],
   "source": [
    "# Dependencies and Setup\n",
    "import pandas as pd\n",
    "\n",
    "# File to Load (Remember to Change These)\n",
    "file_to_load = \"Resources/purchase_data.csv\"\n",
    "\n",
    "# Read Purchasing File and store into Pandas data frame\n",
    "purchase_data = pd.read_csv(file_to_load)"
   ]
  },
  {
   "cell_type": "markdown",
   "metadata": {},
   "source": [
    "## Player Count"
   ]
  },
  {
   "cell_type": "markdown",
   "metadata": {},
   "source": [
    "* Display the total number of players\n"
   ]
  },
  {
   "cell_type": "code",
   "execution_count": 41,
   "metadata": {},
   "outputs": [
    {
     "data": {
      "text/html": [
       "<div>\n",
       "<style scoped>\n",
       "    .dataframe tbody tr th:only-of-type {\n",
       "        vertical-align: middle;\n",
       "    }\n",
       "\n",
       "    .dataframe tbody tr th {\n",
       "        vertical-align: top;\n",
       "    }\n",
       "\n",
       "    .dataframe thead th {\n",
       "        text-align: right;\n",
       "    }\n",
       "</style>\n",
       "<table border=\"1\" class=\"dataframe\">\n",
       "  <thead>\n",
       "    <tr style=\"text-align: right;\">\n",
       "      <th></th>\n",
       "      <th>Total number of players</th>\n",
       "    </tr>\n",
       "  </thead>\n",
       "  <tbody>\n",
       "    <tr>\n",
       "      <th>0</th>\n",
       "      <td>576</td>\n",
       "    </tr>\n",
       "  </tbody>\n",
       "</table>\n",
       "</div>"
      ],
      "text/plain": [
       "   Total number of players\n",
       "0                      576"
      ]
     },
     "execution_count": 41,
     "metadata": {},
     "output_type": "execute_result"
    }
   ],
   "source": [
    "#purchase_data.head()\n",
    "#purchase_data.describe()\n",
    "\n",
    "\n",
    "purchase_id = len(purchase_data[\"SN\"].unique())\n",
    "playerTotal=pd.DataFrame({\"Total number of players\":[purchase_id]})\n",
    "playerTotal\n",
    "\n"
   ]
  },
  {
   "cell_type": "markdown",
   "metadata": {},
   "source": [
    "## Purchasing Analysis (Total)"
   ]
  },
  {
   "cell_type": "markdown",
   "metadata": {},
   "source": [
    "* Run basic calculations to obtain number of unique items, average price, etc.\n",
    "\n",
    "\n",
    "* Create a summary data frame to hold the results\n",
    "\n",
    "\n",
    "* Optional: give the displayed data cleaner formatting\n",
    "\n",
    "\n",
    "* Display the summary data frame\n"
   ]
  },
  {
   "cell_type": "code",
   "execution_count": 42,
   "metadata": {
    "scrolled": true
   },
   "outputs": [
    {
     "data": {
      "text/html": [
       "<style  type=\"text/css\" >\n",
       "</style><table id=\"T_f9fa2_\" ><thead>    <tr>        <th class=\"blank level0\" ></th>        <th class=\"col_heading level0 col0\" >Number of Unique Items</th>        <th class=\"col_heading level0 col1\" >Average Price</th>        <th class=\"col_heading level0 col2\" >Total Profit</th>    </tr></thead><tbody>\n",
       "                <tr>\n",
       "                        <th id=\"T_f9fa2_level0_row0\" class=\"row_heading level0 row0\" >0</th>\n",
       "                        <td id=\"T_f9fa2_row0_col0\" class=\"data row0 col0\" >179</td>\n",
       "                        <td id=\"T_f9fa2_row0_col1\" class=\"data row0 col1\" >$3.05</td>\n",
       "                        <td id=\"T_f9fa2_row0_col2\" class=\"data row0 col2\" >$2,379.77</td>\n",
       "            </tr>\n",
       "    </tbody></table>"
      ],
      "text/plain": [
       "<pandas.io.formats.style.Styler at 0x1d65a677c10>"
      ]
     },
     "execution_count": 42,
     "metadata": {},
     "output_type": "execute_result"
    }
   ],
   "source": [
    "purchaseItem = len(purchase_data[\"Item ID\"].unique())\n",
    "totalAmount=(purchase_data[\"Price\"]).sum()\n",
    "purchaseAverage = purchase_data[\"Price\"].mean()\n",
    "allPurchases =(purchase_data[\"Purchase ID\"]).count()\n",
    "\n",
    "summaryAnalysis_df =pd.DataFrame({\"Number of Unique Items\":[purchaseItem],\n",
    "                          \"Average Price\":[purchaseAverage],\n",
    "                          \"Total Profit\":[totalAmount]\n",
    "                        \n",
    "})\n",
    "summaryAnalysis_df.style.format({'Average Price':\"${:,.2f}\",\n",
    "                         'Total Profit': '${:,.2f}'})"
   ]
  },
  {
   "cell_type": "markdown",
   "metadata": {},
   "source": [
    "## Gender Demographics"
   ]
  },
  {
   "cell_type": "markdown",
   "metadata": {},
   "source": [
    "* Percentage and Count of Male Players\n",
    "\n",
    "\n",
    "* Percentage and Count of Female Players\n",
    "\n",
    "\n",
    "* Percentage and Count of Other / Non-Disclosed\n",
    "\n",
    "\n"
   ]
  },
  {
   "cell_type": "code",
   "execution_count": 43,
   "metadata": {},
   "outputs": [
    {
     "data": {
      "text/html": [
       "<style  type=\"text/css\" >\n",
       "</style><table id=\"T_17a9c_\" ><thead>    <tr>        <th class=\"blank level0\" ></th>        <th class=\"col_heading level0 col0\" >Players Percentage</th>        <th class=\"col_heading level0 col1\" >Total Count</th>    </tr>    <tr>        <th class=\"index_name level0\" >GAME GENDERS</th>        <th class=\"blank\" ></th>        <th class=\"blank\" ></th>    </tr></thead><tbody>\n",
       "                <tr>\n",
       "                        <th id=\"T_17a9c_level0_row0\" class=\"row_heading level0 row0\" >Other / Non-Disclosed</th>\n",
       "                        <td id=\"T_17a9c_row0_col0\" class=\"data row0 col0\" >1.9%</td>\n",
       "                        <td id=\"T_17a9c_row0_col1\" class=\"data row0 col1\" >11</td>\n",
       "            </tr>\n",
       "            <tr>\n",
       "                        <th id=\"T_17a9c_level0_row1\" class=\"row_heading level0 row1\" >Female</th>\n",
       "                        <td id=\"T_17a9c_row1_col0\" class=\"data row1 col0\" >14.1%</td>\n",
       "                        <td id=\"T_17a9c_row1_col1\" class=\"data row1 col1\" >81</td>\n",
       "            </tr>\n",
       "            <tr>\n",
       "                        <th id=\"T_17a9c_level0_row2\" class=\"row_heading level0 row2\" >Male</th>\n",
       "                        <td id=\"T_17a9c_row2_col0\" class=\"data row2 col0\" >84.0%</td>\n",
       "                        <td id=\"T_17a9c_row2_col1\" class=\"data row2 col1\" >484</td>\n",
       "            </tr>\n",
       "    </tbody></table>"
      ],
      "text/plain": [
       "<pandas.io.formats.style.Styler at 0x1d6592f8670>"
      ]
     },
     "execution_count": 43,
     "metadata": {},
     "output_type": "execute_result"
    }
   ],
   "source": [
    "#purchase_data.head()\n",
    "#Group data by gender\n",
    "genders = purchase_data.groupby(\"Gender\")\n",
    "\n",
    "#genders\n",
    "#Count the total SN by gender\n",
    "totalGenders = genders.nunique()[\"SN\"]\n",
    "\n",
    "#Create total of genders and divivde by total players to get Percentage  and display data frame \n",
    "playersPercet = ((totalGenders / purchase_id) * 100)\n",
    "\n",
    "gendersDemographics = pd.DataFrame({\"Players Percentage\": playersPercet, \"Total Count\": totalGenders})\n",
    "\n",
    "#Display data frame with no index name \n",
    "gendersDemographics.index.name = \"GAME GENDERS\"\n",
    "\n",
    "#Display the values by \"Total Count\"  and one decimal place for the percentage\n",
    "gendersDemographics.sort_values([\"Total Count\"]).style.format({\"Players Percentage\":\"{:.1f}%\"})"
   ]
  },
  {
   "cell_type": "markdown",
   "metadata": {},
   "source": [
    "\n",
    "## Purchasing Analysis (Gender)"
   ]
  },
  {
   "cell_type": "markdown",
   "metadata": {},
   "source": [
    "* Run basic calculations to obtain purchase count, avg. purchase price, avg. purchase total per person etc. by gender\n",
    "\n",
    "\n",
    "\n",
    "\n",
    "* Create a summary data frame to hold the results\n",
    "\n",
    "\n",
    "* Optional: give the displayed data cleaner formatting\n",
    "\n",
    "\n",
    "* Display the summary data frame"
   ]
  },
  {
   "cell_type": "code",
   "execution_count": 44,
   "metadata": {},
   "outputs": [
    {
     "data": {
      "text/html": [
       "<style  type=\"text/css\" >\n",
       "</style><table id=\"T_11c94_\" ><thead>    <tr>        <th class=\"blank level0\" ></th>        <th class=\"col_heading level0 col0\" >Purchase Count</th>        <th class=\"col_heading level0 col1\" >Average Total Purchase Per Person</th>        <th class=\"col_heading level0 col2\" >Average Purchase Price</th>        <th class=\"col_heading level0 col3\" >Average Purchase Value</th>    </tr></thead><tbody>\n",
       "                <tr>\n",
       "                        <th id=\"T_11c94_level0_row0\" class=\"row_heading level0 row0\" >Female</th>\n",
       "                        <td id=\"T_11c94_row0_col0\" class=\"data row0 col0\" >113</td>\n",
       "                        <td id=\"T_11c94_row0_col1\" class=\"data row0 col1\" >$25.29</td>\n",
       "                        <td id=\"T_11c94_row0_col2\" class=\"data row0 col2\" >$3.20</td>\n",
       "                        <td id=\"T_11c94_row0_col3\" class=\"data row0 col3\" >$361.94</td>\n",
       "            </tr>\n",
       "            <tr>\n",
       "                        <th id=\"T_11c94_level0_row1\" class=\"row_heading level0 row1\" >Male</th>\n",
       "                        <td id=\"T_11c94_row1_col0\" class=\"data row1 col0\" >652</td>\n",
       "                        <td id=\"T_11c94_row1_col1\" class=\"data row1 col1\" >$160.38</td>\n",
       "                        <td id=\"T_11c94_row1_col2\" class=\"data row1 col2\" >$3.02</td>\n",
       "                        <td id=\"T_11c94_row1_col3\" class=\"data row1 col3\" >$1,967.64</td>\n",
       "            </tr>\n",
       "            <tr>\n",
       "                        <th id=\"T_11c94_level0_row2\" class=\"row_heading level0 row2\" >Other / Non-Disclosed</th>\n",
       "                        <td id=\"T_11c94_row2_col0\" class=\"data row2 col0\" >15</td>\n",
       "                        <td id=\"T_11c94_row2_col1\" class=\"data row2 col1\" >$3.29</td>\n",
       "                        <td id=\"T_11c94_row2_col2\" class=\"data row2 col2\" >$3.35</td>\n",
       "                        <td id=\"T_11c94_row2_col3\" class=\"data row2 col3\" >$50.19</td>\n",
       "            </tr>\n",
       "    </tbody></table>"
      ],
      "text/plain": [
       "<pandas.io.formats.style.Styler at 0x1d65a54a730>"
      ]
     },
     "execution_count": 44,
     "metadata": {},
     "output_type": "execute_result"
    }
   ],
   "source": [
    "#Purchase total by gender \n",
    "purchaseTotal = genders[\"Price\"].sum()\n",
    "\n",
    "#Average purchase prices by gender\n",
    "purchaseAverage = genders[\"Price\"].mean()\n",
    "\n",
    "#Average of purchase\n",
    "averageTotal = (totalGenders/purchaseAverage)\n",
    "\n",
    "#Count number of total purchases per gender \n",
    "purchaseCount = genders[\"Purchase ID\"].count()\n",
    "\n",
    "\n",
    "#Create data frame with obtained values and results with no index\n",
    "genderDemograph = pd.DataFrame({\"Purchase Count\": purchaseCount, \n",
    "                                    \"Average Total Purchase Per Person\": averageTotal,\n",
    "                                \"Average Purchase Price\": purchaseAverage,\n",
    "                                    \"Average Purchase Value\":purchaseTotal})\n",
    "\n",
    "genderDemograph.index.name = None\n",
    "\n",
    "# Add Dollar $ to values for better format\n",
    "genderDemograph.style.format({\"Average Purchase Value\":\"${:,.2f}\",\n",
    "                                  \"Average Purchase Price\":\"${:,.2f}\",\n",
    "                                  \"Average Total Purchase Per Person\":\"${:,.2f}\"})"
   ]
  },
  {
   "cell_type": "markdown",
   "metadata": {},
   "source": [
    "## Age Demographics"
   ]
  },
  {
   "cell_type": "markdown",
   "metadata": {},
   "source": [
    "* Establish bins for ages\n",
    "\n",
    "\n",
    "* Categorize the existing players using the age bins. Hint: use pd.cut()\n",
    "\n",
    "\n",
    "* Calculate the numbers and percentages by age group\n",
    "\n",
    "\n",
    "* Create a summary data frame to hold the results\n",
    "\n",
    "\n",
    "* Optional: round the percentage column to two decimal points\n",
    "\n",
    "\n",
    "* Display Age Demographics Table\n"
   ]
  },
  {
   "cell_type": "code",
   "execution_count": 45,
   "metadata": {},
   "outputs": [
    {
     "data": {
      "text/html": [
       "<style  type=\"text/css\" >\n",
       "</style><table id=\"T_ac9df_\" ><thead>    <tr>        <th class=\"blank level0\" ></th>        <th class=\"col_heading level0 col0\" >Total Count</th>        <th class=\"col_heading level0 col1\" >Percentage of Players</th>    </tr>    <tr>        <th class=\"index_name level0\" >Age Group</th>        <th class=\"blank\" ></th>        <th class=\"blank\" ></th>    </tr></thead><tbody>\n",
       "                <tr>\n",
       "                        <th id=\"T_ac9df_level0_row0\" class=\"row_heading level0 row0\" ><10</th>\n",
       "                        <td id=\"T_ac9df_row0_col0\" class=\"data row0 col0\" >17</td>\n",
       "                        <td id=\"T_ac9df_row0_col1\" class=\"data row0 col1\" >3.0%</td>\n",
       "            </tr>\n",
       "            <tr>\n",
       "                        <th id=\"T_ac9df_level0_row1\" class=\"row_heading level0 row1\" >10-14</th>\n",
       "                        <td id=\"T_ac9df_row1_col0\" class=\"data row1 col0\" >22</td>\n",
       "                        <td id=\"T_ac9df_row1_col1\" class=\"data row1 col1\" >3.8%</td>\n",
       "            </tr>\n",
       "            <tr>\n",
       "                        <th id=\"T_ac9df_level0_row2\" class=\"row_heading level0 row2\" >15-19</th>\n",
       "                        <td id=\"T_ac9df_row2_col0\" class=\"data row2 col0\" >107</td>\n",
       "                        <td id=\"T_ac9df_row2_col1\" class=\"data row2 col1\" >18.6%</td>\n",
       "            </tr>\n",
       "            <tr>\n",
       "                        <th id=\"T_ac9df_level0_row3\" class=\"row_heading level0 row3\" >20-24</th>\n",
       "                        <td id=\"T_ac9df_row3_col0\" class=\"data row3 col0\" >258</td>\n",
       "                        <td id=\"T_ac9df_row3_col1\" class=\"data row3 col1\" >44.8%</td>\n",
       "            </tr>\n",
       "            <tr>\n",
       "                        <th id=\"T_ac9df_level0_row4\" class=\"row_heading level0 row4\" >25-29</th>\n",
       "                        <td id=\"T_ac9df_row4_col0\" class=\"data row4 col0\" >77</td>\n",
       "                        <td id=\"T_ac9df_row4_col1\" class=\"data row4 col1\" >13.4%</td>\n",
       "            </tr>\n",
       "            <tr>\n",
       "                        <th id=\"T_ac9df_level0_row5\" class=\"row_heading level0 row5\" >30-34</th>\n",
       "                        <td id=\"T_ac9df_row5_col0\" class=\"data row5 col0\" >52</td>\n",
       "                        <td id=\"T_ac9df_row5_col1\" class=\"data row5 col1\" >9.0%</td>\n",
       "            </tr>\n",
       "            <tr>\n",
       "                        <th id=\"T_ac9df_level0_row6\" class=\"row_heading level0 row6\" >35-39</th>\n",
       "                        <td id=\"T_ac9df_row6_col0\" class=\"data row6 col0\" >31</td>\n",
       "                        <td id=\"T_ac9df_row6_col1\" class=\"data row6 col1\" >5.4%</td>\n",
       "            </tr>\n",
       "            <tr>\n",
       "                        <th id=\"T_ac9df_level0_row7\" class=\"row_heading level0 row7\" >40+</th>\n",
       "                        <td id=\"T_ac9df_row7_col0\" class=\"data row7 col0\" >12</td>\n",
       "                        <td id=\"T_ac9df_row7_col1\" class=\"data row7 col1\" >2.1%</td>\n",
       "            </tr>\n",
       "    </tbody></table>"
      ],
      "text/plain": [
       "<pandas.io.formats.style.Styler at 0x1d65a667f10>"
      ]
     },
     "execution_count": 45,
     "metadata": {},
     "output_type": "execute_result"
    }
   ],
   "source": [
    "#Establish bins for ages for later use\n",
    "ageBins = [0, 9.90, 14.90, 19.90, 24.90, 29.90, 34.90, 39.90, 99999]\n",
    "groupBins = [\"<10\", \"10-14\", \"15-19\", \"20-24\", \"25-29\", \"30-34\", \"35-39\", \"40+\"]\n",
    "\n",
    "#Segment and sort age values into bins established above\n",
    "purchase_data[\"Age Group\"] = pd.cut(purchase_data[\"Age\"],ageBins, labels=groupBins)\n",
    "#purchase_data.head()\n",
    "purchase_data\n",
    "\n",
    "#Display data frame gruped by \"Age Group\" \n",
    "ageGroup = purchase_data.groupby(\"Age Group\")\n",
    "#ageGroup.head()\n",
    "\n",
    "#Total count of players per age segment\n",
    "totalCount = ageGroup[\"SN\"].nunique()\n",
    "\n",
    "#Calculate percentages of players by age.... purchase_id => players count\n",
    "percentageAge = ((totalCount/purchase_id) * (100))\n",
    "\n",
    "#Create data frame with obtained values with formated values\n",
    "ageDemograph = pd.DataFrame({\"Total Count\":totalCount,\"Percentage of Players\":percentageAge})\n",
    "ageDemograph.index.name = \"Age Group\"\n",
    "ageDemograph.style.format({\"Percentage of Players\":\"{:,.1f}%\"})"
   ]
  },
  {
   "cell_type": "markdown",
   "metadata": {},
   "source": [
    "## Purchasing Analysis (Age)"
   ]
  },
  {
   "cell_type": "markdown",
   "metadata": {},
   "source": [
    "* Bin the purchase_data data frame by age\n",
    "\n",
    "\n",
    "* Run basic calculations to obtain purchase count, avg. purchase price, avg. purchase total per person etc. in the table below\n",
    "\n",
    "\n",
    "* Create a summary data frame to hold the results\n",
    "\n",
    "\n",
    "* Optional: give the displayed data cleaner formatting\n",
    "\n",
    "\n",
    "* Display the summary data frame"
   ]
  },
  {
   "cell_type": "code",
   "execution_count": 46,
   "metadata": {},
   "outputs": [
    {
     "data": {
      "text/html": [
       "<style  type=\"text/css\" >\n",
       "</style><table id=\"T_58e46_\" ><thead>    <tr>        <th class=\"blank level0\" ></th>        <th class=\"col_heading level0 col0\" >Purchase Count</th>        <th class=\"col_heading level0 col1\" >Average Purchase Price</th>        <th class=\"col_heading level0 col2\" >Average Purchase Total Per Person</th>        <th class=\"col_heading level0 col3\" >Total Purchase Value</th>    </tr>    <tr>        <th class=\"index_name level0\" >Age Ranges</th>        <th class=\"blank\" ></th>        <th class=\"blank\" ></th>        <th class=\"blank\" ></th>        <th class=\"blank\" ></th>    </tr></thead><tbody>\n",
       "                <tr>\n",
       "                        <th id=\"T_58e46_level0_row0\" class=\"row_heading level0 row0\" ><10</th>\n",
       "                        <td id=\"T_58e46_row0_col0\" class=\"data row0 col0\" >23</td>\n",
       "                        <td id=\"T_58e46_row0_col1\" class=\"data row0 col1\" >$3.35</td>\n",
       "                        <td id=\"T_58e46_row0_col2\" class=\"data row0 col2\" >$4.54</td>\n",
       "                        <td id=\"T_58e46_row0_col3\" class=\"data row0 col3\" >$77.13</td>\n",
       "            </tr>\n",
       "            <tr>\n",
       "                        <th id=\"T_58e46_level0_row1\" class=\"row_heading level0 row1\" >10-14</th>\n",
       "                        <td id=\"T_58e46_row1_col0\" class=\"data row1 col0\" >28</td>\n",
       "                        <td id=\"T_58e46_row1_col1\" class=\"data row1 col1\" >$2.96</td>\n",
       "                        <td id=\"T_58e46_row1_col2\" class=\"data row1 col2\" >$3.76</td>\n",
       "                        <td id=\"T_58e46_row1_col3\" class=\"data row1 col3\" >$82.78</td>\n",
       "            </tr>\n",
       "            <tr>\n",
       "                        <th id=\"T_58e46_level0_row2\" class=\"row_heading level0 row2\" >15-19</th>\n",
       "                        <td id=\"T_58e46_row2_col0\" class=\"data row2 col0\" >136</td>\n",
       "                        <td id=\"T_58e46_row2_col1\" class=\"data row2 col1\" >$3.04</td>\n",
       "                        <td id=\"T_58e46_row2_col2\" class=\"data row2 col2\" >$3.86</td>\n",
       "                        <td id=\"T_58e46_row2_col3\" class=\"data row2 col3\" >$412.89</td>\n",
       "            </tr>\n",
       "            <tr>\n",
       "                        <th id=\"T_58e46_level0_row3\" class=\"row_heading level0 row3\" >20-24</th>\n",
       "                        <td id=\"T_58e46_row3_col0\" class=\"data row3 col0\" >365</td>\n",
       "                        <td id=\"T_58e46_row3_col1\" class=\"data row3 col1\" >$3.05</td>\n",
       "                        <td id=\"T_58e46_row3_col2\" class=\"data row3 col2\" >$4.32</td>\n",
       "                        <td id=\"T_58e46_row3_col3\" class=\"data row3 col3\" >$1,114.06</td>\n",
       "            </tr>\n",
       "            <tr>\n",
       "                        <th id=\"T_58e46_level0_row4\" class=\"row_heading level0 row4\" >25-29</th>\n",
       "                        <td id=\"T_58e46_row4_col0\" class=\"data row4 col0\" >101</td>\n",
       "                        <td id=\"T_58e46_row4_col1\" class=\"data row4 col1\" >$2.90</td>\n",
       "                        <td id=\"T_58e46_row4_col2\" class=\"data row4 col2\" >$3.81</td>\n",
       "                        <td id=\"T_58e46_row4_col3\" class=\"data row4 col3\" >$293.00</td>\n",
       "            </tr>\n",
       "            <tr>\n",
       "                        <th id=\"T_58e46_level0_row5\" class=\"row_heading level0 row5\" >30-34</th>\n",
       "                        <td id=\"T_58e46_row5_col0\" class=\"data row5 col0\" >73</td>\n",
       "                        <td id=\"T_58e46_row5_col1\" class=\"data row5 col1\" >$2.93</td>\n",
       "                        <td id=\"T_58e46_row5_col2\" class=\"data row5 col2\" >$4.12</td>\n",
       "                        <td id=\"T_58e46_row5_col3\" class=\"data row5 col3\" >$214.00</td>\n",
       "            </tr>\n",
       "            <tr>\n",
       "                        <th id=\"T_58e46_level0_row6\" class=\"row_heading level0 row6\" >35-39</th>\n",
       "                        <td id=\"T_58e46_row6_col0\" class=\"data row6 col0\" >41</td>\n",
       "                        <td id=\"T_58e46_row6_col1\" class=\"data row6 col1\" >$3.60</td>\n",
       "                        <td id=\"T_58e46_row6_col2\" class=\"data row6 col2\" >$4.76</td>\n",
       "                        <td id=\"T_58e46_row6_col3\" class=\"data row6 col3\" >$147.67</td>\n",
       "            </tr>\n",
       "            <tr>\n",
       "                        <th id=\"T_58e46_level0_row7\" class=\"row_heading level0 row7\" >40+</th>\n",
       "                        <td id=\"T_58e46_row7_col0\" class=\"data row7 col0\" >13</td>\n",
       "                        <td id=\"T_58e46_row7_col1\" class=\"data row7 col1\" >$2.94</td>\n",
       "                        <td id=\"T_58e46_row7_col2\" class=\"data row7 col2\" >$3.19</td>\n",
       "                        <td id=\"T_58e46_row7_col3\" class=\"data row7 col3\" >$38.24</td>\n",
       "            </tr>\n",
       "    </tbody></table>"
      ],
      "text/plain": [
       "<pandas.io.formats.style.Styler at 0x1d65a558940>"
      ]
     },
     "execution_count": 46,
     "metadata": {},
     "output_type": "execute_result"
    }
   ],
   "source": [
    "#Calculate total purchase value by age group = purchaseTotalPrice #Count purchases by age group = purchaseCountAge\n",
    "#Calculate the average purchase price by age group = purchasePriceAvg\n",
    "purchaseTotalPrice = ageGroup[\"Price\"].sum()\n",
    "purchaseCountAge = ageGroup[\"Purchase ID\"].count()\n",
    "purchasePriceAvg = ageGroup[\"Price\"].mean()\n",
    "\n",
    "#Calculate the average purchase per person by the age.... totalCount=> age demograpichs\n",
    "averagePurchaseAge = (purchaseTotalPrice/totalCount)\n",
    "\n",
    "#Display data frame with data values\n",
    "age_demographics = pd.DataFrame({\"Purchase Count\": purchaseCountAge,\n",
    "                                 \"Average Purchase Price\": purchasePriceAvg,\n",
    "                                 \"Average Purchase Total Per Person\": averagePurchaseAge,\n",
    "                                 \"Total Purchase Value\":purchaseTotalPrice,})\n",
    "age_demographics.index.name = \"Age Ranges\"\n",
    "\n",
    "#Format Values for the data frame\n",
    "age_demographics.style.format({\"Average Purchase Total Per Person\":\"${:.2f}\",\n",
    "                              \"Average Purchase Price\":\"${:.2f}\",\n",
    "                               \"Total Purchase Value\":\"${:,.2f}\"})"
   ]
  },
  {
   "cell_type": "markdown",
   "metadata": {},
   "source": [
    "## Top Spenders"
   ]
  },
  {
   "cell_type": "markdown",
   "metadata": {},
   "source": [
    "* Run basic calculations to obtain the results in the table below\n",
    "\n",
    "\n",
    "* Create a summary data frame to hold the results\n",
    "\n",
    "\n",
    "* Sort the total purchase value column in descending order\n",
    "\n",
    "\n",
    "* Optional: give the displayed data cleaner formatting\n",
    "\n",
    "\n",
    "* Display a preview of the summary data frame\n",
    "\n"
   ]
  },
  {
   "cell_type": "code",
   "execution_count": 47,
   "metadata": {},
   "outputs": [
    {
     "data": {
      "text/html": [
       "<style  type=\"text/css\" >\n",
       "</style><table id=\"T_6f64f_\" ><thead>    <tr>        <th class=\"blank level0\" ></th>        <th class=\"col_heading level0 col0\" >Purchase Count</th>        <th class=\"col_heading level0 col1\" >Average Purchase Price</th>        <th class=\"col_heading level0 col2\" >Total Purchase Value</th>    </tr>    <tr>        <th class=\"index_name level0\" >SN</th>        <th class=\"blank\" ></th>        <th class=\"blank\" ></th>        <th class=\"blank\" ></th>    </tr></thead><tbody>\n",
       "                <tr>\n",
       "                        <th id=\"T_6f64f_level0_row0\" class=\"row_heading level0 row0\" >Lisosia93</th>\n",
       "                        <td id=\"T_6f64f_row0_col0\" class=\"data row0 col0\" >5</td>\n",
       "                        <td id=\"T_6f64f_row0_col1\" class=\"data row0 col1\" >$3.79</td>\n",
       "                        <td id=\"T_6f64f_row0_col2\" class=\"data row0 col2\" >$18.96</td>\n",
       "            </tr>\n",
       "            <tr>\n",
       "                        <th id=\"T_6f64f_level0_row1\" class=\"row_heading level0 row1\" >Idastidru52</th>\n",
       "                        <td id=\"T_6f64f_row1_col0\" class=\"data row1 col0\" >4</td>\n",
       "                        <td id=\"T_6f64f_row1_col1\" class=\"data row1 col1\" >$3.86</td>\n",
       "                        <td id=\"T_6f64f_row1_col2\" class=\"data row1 col2\" >$15.45</td>\n",
       "            </tr>\n",
       "            <tr>\n",
       "                        <th id=\"T_6f64f_level0_row2\" class=\"row_heading level0 row2\" >Chamjask73</th>\n",
       "                        <td id=\"T_6f64f_row2_col0\" class=\"data row2 col0\" >3</td>\n",
       "                        <td id=\"T_6f64f_row2_col1\" class=\"data row2 col1\" >$4.61</td>\n",
       "                        <td id=\"T_6f64f_row2_col2\" class=\"data row2 col2\" >$13.83</td>\n",
       "            </tr>\n",
       "            <tr>\n",
       "                        <th id=\"T_6f64f_level0_row3\" class=\"row_heading level0 row3\" >Iral74</th>\n",
       "                        <td id=\"T_6f64f_row3_col0\" class=\"data row3 col0\" >4</td>\n",
       "                        <td id=\"T_6f64f_row3_col1\" class=\"data row3 col1\" >$3.40</td>\n",
       "                        <td id=\"T_6f64f_row3_col2\" class=\"data row3 col2\" >$13.62</td>\n",
       "            </tr>\n",
       "            <tr>\n",
       "                        <th id=\"T_6f64f_level0_row4\" class=\"row_heading level0 row4\" >Iskadarya95</th>\n",
       "                        <td id=\"T_6f64f_row4_col0\" class=\"data row4 col0\" >3</td>\n",
       "                        <td id=\"T_6f64f_row4_col1\" class=\"data row4 col1\" >$4.37</td>\n",
       "                        <td id=\"T_6f64f_row4_col2\" class=\"data row4 col2\" >$13.10</td>\n",
       "            </tr>\n",
       "    </tbody></table>"
      ],
      "text/plain": [
       "<pandas.io.formats.style.Styler at 0x1d65a5524f0>"
      ]
     },
     "execution_count": 47,
     "metadata": {},
     "output_type": "execute_result"
    }
   ],
   "source": [
    "#Group data by players names\n",
    "playerNames = purchase_data.groupby(\"SN\")\n",
    "\n",
    "\n",
    "#Calculate the average purchase by name => avgbigSpender #Count the total purchases by name => bigSpenderCount\n",
    "#Calculate purchase total => bigSpenderTotal\n",
    "avgbigSpender = playerNames[\"Price\"].mean()\n",
    "bigSpenderCount = playerNames[\"Purchase ID\"].count()\n",
    "bigSpenderTotal = playerNames[\"Price\"].sum()\n",
    "\n",
    "#Display data frame with data\n",
    "bigSpenders = pd.DataFrame({\"Purchase Count\": bigSpenderCount,\n",
    "                             \"Average Purchase Price\": avgbigSpender,\n",
    "                             \"Total Purchase Value\":bigSpenderTotal})\n",
    "\n",
    "#Sort by highest numner(total purchase) to get the 5 Big Spenders\n",
    "viewBigSpenders = bigSpenders.sort_values([\"Total Purchase Value\"], ascending=0).head()\n",
    "\n",
    "#Format Values for the data frame\n",
    "viewBigSpenders.style.format({\"Average Purchase Price\":\"${:,.2f}\", \n",
    "                                 \"Total Purchase Value\":\"${:,.2f}\"})"
   ]
  },
  {
   "cell_type": "markdown",
   "metadata": {},
   "source": [
    "## Most Popular Items"
   ]
  },
  {
   "cell_type": "markdown",
   "metadata": {},
   "source": [
    "* Retrieve the Item ID, Item Name, and Item Price columns\n",
    "\n",
    "\n",
    "* Group by Item ID and Item Name. Perform calculations to obtain purchase count, average item price, and total purchase value\n",
    "\n",
    "\n",
    "* Create a summary data frame to hold the results\n",
    "\n",
    "\n",
    "* Sort the purchase count column in descending order\n",
    "\n",
    "\n",
    "* Optional: give the displayed data cleaner formatting\n",
    "\n",
    "\n",
    "* Display a preview of the summary data frame\n",
    "\n"
   ]
  },
  {
   "cell_type": "code",
   "execution_count": 48,
   "metadata": {},
   "outputs": [
    {
     "data": {
      "text/html": [
       "<style  type=\"text/css\" >\n",
       "</style><table id=\"T_bfe80_\" ><thead>    <tr>        <th class=\"blank\" ></th>        <th class=\"blank level0\" ></th>        <th class=\"col_heading level0 col0\" >Purchase Count</th>        <th class=\"col_heading level0 col1\" >Item Price</th>        <th class=\"col_heading level0 col2\" >Total Purchase Value</th>    </tr>    <tr>        <th class=\"index_name level0\" >Item ID</th>        <th class=\"index_name level1\" >Item Name</th>        <th class=\"blank\" ></th>        <th class=\"blank\" ></th>        <th class=\"blank\" ></th>    </tr></thead><tbody>\n",
       "                <tr>\n",
       "                        <th id=\"T_bfe80_level0_row0\" class=\"row_heading level0 row0\" >92</th>\n",
       "                        <th id=\"T_bfe80_level1_row0\" class=\"row_heading level1 row0\" >Final Critic</th>\n",
       "                        <td id=\"T_bfe80_row0_col0\" class=\"data row0 col0\" >13</td>\n",
       "                        <td id=\"T_bfe80_row0_col1\" class=\"data row0 col1\" >$4.61</td>\n",
       "                        <td id=\"T_bfe80_row0_col2\" class=\"data row0 col2\" >$59.99</td>\n",
       "            </tr>\n",
       "            <tr>\n",
       "                        <th id=\"T_bfe80_level0_row1\" class=\"row_heading level0 row1\" >178</th>\n",
       "                        <th id=\"T_bfe80_level1_row1\" class=\"row_heading level1 row1\" >Oathbreaker, Last Hope of the Breaking Storm</th>\n",
       "                        <td id=\"T_bfe80_row1_col0\" class=\"data row1 col0\" >12</td>\n",
       "                        <td id=\"T_bfe80_row1_col1\" class=\"data row1 col1\" >$4.23</td>\n",
       "                        <td id=\"T_bfe80_row1_col2\" class=\"data row1 col2\" >$50.76</td>\n",
       "            </tr>\n",
       "            <tr>\n",
       "                        <th id=\"T_bfe80_level0_row2\" class=\"row_heading level0 row2\" >145</th>\n",
       "                        <th id=\"T_bfe80_level1_row2\" class=\"row_heading level1 row2\" >Fiery Glass Crusader</th>\n",
       "                        <td id=\"T_bfe80_row2_col0\" class=\"data row2 col0\" >9</td>\n",
       "                        <td id=\"T_bfe80_row2_col1\" class=\"data row2 col1\" >$4.58</td>\n",
       "                        <td id=\"T_bfe80_row2_col2\" class=\"data row2 col2\" >$41.22</td>\n",
       "            </tr>\n",
       "            <tr>\n",
       "                        <th id=\"T_bfe80_level0_row3\" class=\"row_heading level0 row3\" >132</th>\n",
       "                        <th id=\"T_bfe80_level1_row3\" class=\"row_heading level1 row3\" >Persuasion</th>\n",
       "                        <td id=\"T_bfe80_row3_col0\" class=\"data row3 col0\" >9</td>\n",
       "                        <td id=\"T_bfe80_row3_col1\" class=\"data row3 col1\" >$3.22</td>\n",
       "                        <td id=\"T_bfe80_row3_col2\" class=\"data row3 col2\" >$28.99</td>\n",
       "            </tr>\n",
       "            <tr>\n",
       "                        <th id=\"T_bfe80_level0_row4\" class=\"row_heading level0 row4\" >108</th>\n",
       "                        <th id=\"T_bfe80_level1_row4\" class=\"row_heading level1 row4\" >Extraction, Quickblade Of Trembling Hands</th>\n",
       "                        <td id=\"T_bfe80_row4_col0\" class=\"data row4 col0\" >9</td>\n",
       "                        <td id=\"T_bfe80_row4_col1\" class=\"data row4 col1\" >$3.53</td>\n",
       "                        <td id=\"T_bfe80_row4_col2\" class=\"data row4 col2\" >$31.77</td>\n",
       "            </tr>\n",
       "    </tbody></table>"
      ],
      "text/plain": [
       "<pandas.io.formats.style.Styler at 0x1d65a674790>"
      ]
     },
     "execution_count": 48,
     "metadata": {},
     "output_type": "execute_result"
    }
   ],
   "source": [
    "#Create new data frame with items related information  &  Group the item data by item id and item name \n",
    "PupularItems = purchase_data[[\"Item ID\", \"Item Name\", \"Price\"]]\n",
    "itemInfo = PupularItems.groupby([\"Item ID\",\"Item Name\"])\n",
    "\n",
    "#Count of times an item has been purchased and calcualte the purchase value per item \n",
    "#Find individual item price using purchaseCount & purchasePrice\n",
    "purchaseCount = itemInfo[\"Price\"].count()\n",
    "purchasePrice = itemInfo[\"Price\"].sum()\n",
    "itemAmout = (purchasePrice/purchaseCount)\n",
    "\n",
    "# Create data frame with obtained values\n",
    "bestItems = pd.DataFrame({\"Purchase Count\": purchaseCount, \n",
    "                                   \"Item Price\":itemAmout,\n",
    "                                   \"Total Purchase Value\":purchasePrice})\n",
    "\n",
    "#Get Big spenders names \"SN\" and the top 5 item\n",
    "popularSummary = bestItems.sort_values([\"Purchase Count\"], ascending=0).head()\n",
    "\n",
    "#Format Values for the data frame\n",
    "popularSummary.style.format({\"Item Price\":\"${:,.2f}\",\n",
    "                                \"Total Purchase Value\":\"${:,.2f}\"})"
   ]
  },
  {
   "cell_type": "markdown",
   "metadata": {},
   "source": [
    "## Most Profitable Items"
   ]
  },
  {
   "cell_type": "markdown",
   "metadata": {},
   "source": [
    "* Sort the above table by total purchase value in descending order\n",
    "\n",
    "\n",
    "* Optional: give the displayed data cleaner formatting\n",
    "\n",
    "\n",
    "* Display a preview of the data frame\n",
    "\n"
   ]
  },
  {
   "cell_type": "code",
   "execution_count": 49,
   "metadata": {
    "scrolled": true
   },
   "outputs": [
    {
     "data": {
      "text/html": [
       "<style  type=\"text/css\" >\n",
       "</style><table id=\"T_e4d8c_\" ><thead>    <tr>        <th class=\"blank\" ></th>        <th class=\"blank level0\" ></th>        <th class=\"col_heading level0 col0\" >Purchase Count</th>        <th class=\"col_heading level0 col1\" >Item Price</th>        <th class=\"col_heading level0 col2\" >Total Purchase Value</th>    </tr>    <tr>        <th class=\"index_name level0\" >Item ID</th>        <th class=\"index_name level1\" >Item Name</th>        <th class=\"blank\" ></th>        <th class=\"blank\" ></th>        <th class=\"blank\" ></th>    </tr></thead><tbody>\n",
       "                <tr>\n",
       "                        <th id=\"T_e4d8c_level0_row0\" class=\"row_heading level0 row0\" >92</th>\n",
       "                        <th id=\"T_e4d8c_level1_row0\" class=\"row_heading level1 row0\" >Final Critic</th>\n",
       "                        <td id=\"T_e4d8c_row0_col0\" class=\"data row0 col0\" >13</td>\n",
       "                        <td id=\"T_e4d8c_row0_col1\" class=\"data row0 col1\" >$4.61</td>\n",
       "                        <td id=\"T_e4d8c_row0_col2\" class=\"data row0 col2\" >$59.99</td>\n",
       "            </tr>\n",
       "            <tr>\n",
       "                        <th id=\"T_e4d8c_level0_row1\" class=\"row_heading level0 row1\" >178</th>\n",
       "                        <th id=\"T_e4d8c_level1_row1\" class=\"row_heading level1 row1\" >Oathbreaker, Last Hope of the Breaking Storm</th>\n",
       "                        <td id=\"T_e4d8c_row1_col0\" class=\"data row1 col0\" >12</td>\n",
       "                        <td id=\"T_e4d8c_row1_col1\" class=\"data row1 col1\" >$4.23</td>\n",
       "                        <td id=\"T_e4d8c_row1_col2\" class=\"data row1 col2\" >$50.76</td>\n",
       "            </tr>\n",
       "            <tr>\n",
       "                        <th id=\"T_e4d8c_level0_row2\" class=\"row_heading level0 row2\" >82</th>\n",
       "                        <th id=\"T_e4d8c_level1_row2\" class=\"row_heading level1 row2\" >Nirvana</th>\n",
       "                        <td id=\"T_e4d8c_row2_col0\" class=\"data row2 col0\" >9</td>\n",
       "                        <td id=\"T_e4d8c_row2_col1\" class=\"data row2 col1\" >$4.90</td>\n",
       "                        <td id=\"T_e4d8c_row2_col2\" class=\"data row2 col2\" >$44.10</td>\n",
       "            </tr>\n",
       "            <tr>\n",
       "                        <th id=\"T_e4d8c_level0_row3\" class=\"row_heading level0 row3\" >145</th>\n",
       "                        <th id=\"T_e4d8c_level1_row3\" class=\"row_heading level1 row3\" >Fiery Glass Crusader</th>\n",
       "                        <td id=\"T_e4d8c_row3_col0\" class=\"data row3 col0\" >9</td>\n",
       "                        <td id=\"T_e4d8c_row3_col1\" class=\"data row3 col1\" >$4.58</td>\n",
       "                        <td id=\"T_e4d8c_row3_col2\" class=\"data row3 col2\" >$41.22</td>\n",
       "            </tr>\n",
       "            <tr>\n",
       "                        <th id=\"T_e4d8c_level0_row4\" class=\"row_heading level0 row4\" >103</th>\n",
       "                        <th id=\"T_e4d8c_level1_row4\" class=\"row_heading level1 row4\" >Singed Scalpel</th>\n",
       "                        <td id=\"T_e4d8c_row4_col0\" class=\"data row4 col0\" >8</td>\n",
       "                        <td id=\"T_e4d8c_row4_col1\" class=\"data row4 col1\" >$4.35</td>\n",
       "                        <td id=\"T_e4d8c_row4_col2\" class=\"data row4 col2\" >$34.80</td>\n",
       "            </tr>\n",
       "    </tbody></table>"
      ],
      "text/plain": [
       "<pandas.io.formats.style.Styler at 0x1d65a674490>"
      ]
     },
     "execution_count": 49,
     "metadata": {},
     "output_type": "execute_result"
    }
   ],
   "source": [
    "#Find the mostpopular items and display data frame, arrage the sorting of itmes to find highest purchase \n",
    "# viewBigSpenders => Top Spenders & value bestItems => most popular item\n",
    "\n",
    "viewBigSpenders = bestItems.sort_values([\"Total Purchase Value\"], ascending=0).head()\n",
    "viewBigSpenders.style.format({\"Item Price\":\"${:,.2f}\",\n",
    "                            \"Total Purchase Value\":\"${:,.2f}\"})"
   ]
  },
  {
   "cell_type": "code",
   "execution_count": null,
   "metadata": {},
   "outputs": [],
   "source": []
  },
  {
   "cell_type": "code",
   "execution_count": null,
   "metadata": {},
   "outputs": [],
   "source": []
  }
 ],
 "metadata": {
  "anaconda-cloud": {},
  "kernel_info": {
   "name": "python3"
  },
  "kernelspec": {
   "display_name": "Python 3",
   "language": "python",
   "name": "python3"
  },
  "language_info": {
   "codemirror_mode": {
    "name": "ipython",
    "version": 3
   },
   "file_extension": ".py",
   "mimetype": "text/x-python",
   "name": "python",
   "nbconvert_exporter": "python",
   "pygments_lexer": "ipython3",
   "version": "3.8.8"
  },
  "latex_envs": {
   "LaTeX_envs_menu_present": true,
   "autoclose": false,
   "autocomplete": true,
   "bibliofile": "biblio.bib",
   "cite_by": "apalike",
   "current_citInitial": 1,
   "eqLabelWithNumbers": true,
   "eqNumInitial": 1,
   "hotkeys": {
    "equation": "Ctrl-E",
    "itemize": "Ctrl-I"
   },
   "labels_anchors": false,
   "latex_user_defs": false,
   "report_style_numbering": false,
   "user_envs_cfg": false
  },
  "nteract": {
   "version": "0.2.0"
  }
 },
 "nbformat": 4,
 "nbformat_minor": 4
}
